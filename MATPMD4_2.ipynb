{
  "nbformat": 4,
  "nbformat_minor": 0,
  "metadata": {
    "colab": {
      "name": "MATPMD4_2.ipynb",
      "provenance": [],
      "collapsed_sections": []
    },
    "kernelspec": {
      "name": "python3",
      "display_name": "Python 3"
    },
    "language_info": {
      "name": "python"
    }
  },
  "cells": [
    {
      "cell_type": "code",
      "execution_count": 3,
      "metadata": {
        "id": "MWgEosJl9VlT"
      },
      "outputs": [],
      "source": [
        "import random \n",
        "import numpy as np\n",
        "import math"
      ]
    },
    {
      "cell_type": "code",
      "source": [
        "distances = np.array([\n",
        "    [0,74,58,77,88,72,61,47,101,25,75,80,43,57,33,60,93,57,22,90,52,48,95,71,35],         #1\n",
        "    [74,0,25,45,55,45,62,28,30,54,20,53,47,17,57,61,19,67,52,69,26,35,37,56,43],          #2\n",
        "    [58,25,0,28,40,25,68,16,45,45,18,35,22,16,33,36,40,42,38,51,7,11,38,34,37],           #3\n",
        "    [77,45,28,0,13,5,96,43,47,70,25,8,34,43,45,28,49,36,62,24,34,32,27,15,64],            #4\n",
        "    [88,55,40,13,0,16,109,56,51,82,35,8,45,56,55,34,56,41,74,15,47,44,29,19,76],          #5\n",
        "    [72,45,25,5,16,0,93,40,50,66,25,9,29,41,40,24,51,32,57,25,31,28,31,12,60],            #6\n",
        "    [61,62,68,96,109,93,0,54,90,39,78,103,74,54,74,96,77,98,49,118,62,67,98,100,36],      #7\n",
        "    [47,28,16,43,56,40,54,0,55,30,31,49,24,11,31,45,46,49,25,65,9,14,52,47,21],           #8\n",
        "    [101,30,45,47,51,50,90,55,0,83,28,53,66,46,78,72,13,80,80,67,49,56,23,62,72],         #9\n",
        "    [25,54,45,70,82,66,39,30,83,0,60,75,40,37,37,62,73,62,11,88,38,38,82,69,11],          #10\n",
        "    [75,20,18,25,35,25,78,31,28,60,0,33,38,25,50,45,26,53,55,49,23,28,22,38,51],          #11\n",
        "    [80,53,35,8,8,9,103,49,53,75,33,0,37,50,47,26,56,34,66,16,41,37,32,12,69],            #12\n",
        "    [43,47,22,34,45,29,74,24,66,40,38,37,0,33,12,22,62,25,30,49,21,12,55,30,38],          #13\n",
        "    [57,17,16,43,56,41,54,11,46,37,25,50,33,0,41,51,36,56,35,67,12,21,47,50,27],          #14\n",
        "    [33,57,33,45,55,40,74,31,78,37,50,47,12,41,0,27,73,25,26,56,31,23,67,38,38],          #15\n",
        "    [60,61,36,28,34,24,96,45,72,62,45,26,22,51,27,0,72,8,51,31,39,31,55,14,60],           #16\n",
        "    [93,19,40,49,56,51,77,46,13,73,26,56,62,36,73,72,0,79,71,72,43,50,30,63,62],          #17\n",
        "    [57,67,42,36,41,32,98,49,80,62,53,34,25,56,25,8,79,0,51,36,44,35,63,22,62],           #18\n",
        "    [22,52,38,62,74,57,49,25,80,11,55,66,30,35,26,51,71,51,0,79,32,30,76,60,15],          #19\n",
        "    [90,69,51,24,15,25,118,65,67,88,49,16,49,67,56,31,72,36,79,0,56,51,44,19,84],         #20\n",
        "    [52,26,7,34,47,31,62,9,49,38,23,41,21,12,31,39,43,44,32,56,0,9,44,39,30],             #21\n",
        "    [48,35,11,32,44,28,67,14,56,38,28,37,12,21,23,31,50,35,30,51,9,0,48,33,32],           #22\n",
        "    [95,37,38,27,29,31,98,52,23,82,22,32,55,47,67,55,30,63,76,44,44,48,0,42,73],          #23\n",
        "    [71,56,34,15,19,12,100,47,62,69,38,12,30,50,38,14,63,22,60,19,39,33,42,0,65],         #w1\n",
        "    [35,43,37,64,76,60,36,21,72,11,51,69,38,27,38,60,62,62,15,84,30,32,73,65,0],          #w2\n",
        "])"
      ],
      "metadata": {
        "id": "l4xIHPzi9fjS"
      },
      "execution_count": 4,
      "outputs": []
    },
    {
      "cell_type": "code",
      "source": [
        " number_of_try =1000000 #number of simulations\n",
        "\n",
        " min_cost = float(\"inf\") #will keep the minimum cost amount\n",
        " for i in range(number_of_try):\n",
        "    w1 = 24 #the number of warehouse 1\n",
        "    w2 = 25 #the number of warehouse 2\n",
        "\n",
        "    #shuffle markets by numbers\n",
        "    size = 25 #total number of supermarkets and warehouses\n",
        "    markets = list(range(1,size-1))\n",
        "    random.shuffle(markets)\n",
        "\n",
        "    #divide markets into at most 2 groups and assign to W1 and W2\n",
        "    rd = np.random.randint(0,len(markets))\n",
        "    w1_markets = markets[:rd]\n",
        "    w2_markets = markets[rd:]\n",
        "\n",
        "    #All possible transportation cases to transfer between warehouse and markets\n",
        "    w1_tracks = list(np.random.randint(0,2,6)) # 0 will represent lorry and 1 will represent van, later\n",
        "    w2_tracks = list(np.random.randint(0,2,6)) \n",
        "\n",
        "    #Cost of deliveries from warehouses 1 to appointed supermarkets with the appointed vehicles\n",
        "\n",
        "    n_w1 = len(w1_markets) #number of supermarkets warehouse 1 will deliver\n",
        "    cost_1 = 0 #keeps the cost of deliveries from warehouse 1\n",
        "    current_1 = 0 #is the sequential position of the supermarket where the last delivery done\n",
        "    for i in w1_tracks: \n",
        "      route_1 = [24] #The number of warehouse 1\n",
        "      dista_1 = 0 #keeps the total distances made \n",
        "      if i == 0: #If the delivery vehicle is Lorry\n",
        "        route_1.extend(w1_markets[current_1:current_1+16]) #Creates the route for the vehicle and adds the warehouse 1 position to the beeginning since each travel start from warehouse\n",
        "        route_1.insert(len(route_1),24) # Each vehicle should return back to warehouse\n",
        "        current_1 += 16 #supermarket position for the coming delivery\n",
        "        for i in range(len(route_1) - 1):\n",
        "          dista_1 += distances[route_1[i]-1][route_1[i+1]-1] #calculates the distance between the consecutive supermarkets\n",
        "        cost_1 += dista_1*2 #multiplies the distance by 2 since delivering with lorry cost 2 per miles\n",
        "      else: #follows the same process as above but this time multiplies the distance by 1 since the cost of delivery with Van is 1 per miles\n",
        "        route_1.extend(w1_markets[current_1:current_1+4])\n",
        "        route_1.insert(len(route_1),24)\n",
        "        current_1 += 4\n",
        "        for i in range(len(route_1) - 1):\n",
        "          dista_1 += distances[route_1[i]-1][route_1[i+1]-1]\n",
        "        cost_1 += dista_1\n",
        "\n",
        "    #Cost of deliveries from warehouses 2 to appointed supermarkets with the appointed vehicles\n",
        "\n",
        "    n_w2 = len(w2_markets)  #This process is same as explained above only this time for warehouse 2 \n",
        "    cost_2 = 0 \n",
        "    current_2 = 0 \n",
        "    for i in w2_tracks:\n",
        "      route_2 = [25]\n",
        "      dista_2 = 0\n",
        "      if i == 0:\n",
        "        route_2.extend(w2_markets[current_2:current_2+16])\n",
        "        route_2.insert(len(route_2),25)\n",
        "        current_2 += 16\n",
        "        for i in range(len(route_2) - 1):\n",
        "          dista_2 += distances[route_2[i]-1][route_2[i+1]-1]\n",
        "        cost_2 += dista_2*2\n",
        "      else:\n",
        "        route_2.extend(w2_markets[current_2:current_2+4])\n",
        "        route_2.insert(len(route_2),25)\n",
        "        current_2 += 4\n",
        "        for i in range(len(route_2) - 1):\n",
        "          dista_2 += distances[route_2[i]-1][route_2[i+1]-1]\n",
        "        cost_2 += dista_2\n",
        "\n",
        "    total_cost = cost_1 + cost_2\n",
        "    if total_cost < min_cost: #If the new total cost is smaller than the previous minimum cost than the new total cost is assigned as the new minimum cost.\n",
        "      min_cost = total_cost\n",
        "      min_cost_1 = cost_1\n",
        "      min_cost_2 = cost_2\n",
        "      min_w1_markets = w1_markets\n",
        "      min_w2_markets = w2_markets\n",
        "      min_w1_tracks = w1_tracks\n",
        "      min_w2_tracks = w2_tracks\n",
        "\n",
        "print(\"Cost of vehicles distributing from warehouse 1: \",min_cost_1)\n",
        "print(\"Cost of vehicles distributing from warehouse 2: \",min_cost_2)\n",
        "print(\"Total Cost:\", min_cost)\n",
        "print(\"Route of Vehicles leaving warehouse 1:\", min_w1_markets)\n",
        "print(\"Type of Vehicles leaving warehouse 1:\", min_w1_tracks,\"0 for lorry, 1 for van\")\n",
        "print(\"Route of Vehicles leaving warehouse 2:\", min_w2_markets)\n",
        "print(\"Type of Vehicles leaving warehouse 2:\", min_w2_tracks,\"0 for lorry, 1 for van\")"
      ],
      "metadata": {
        "colab": {
          "base_uri": "https://localhost:8080/"
        },
        "id": "jZho4E94BBtm",
        "outputId": "105bebea-39e8-4ee0-d808-ccee1a022792"
      },
      "execution_count": 19,
      "outputs": [
        {
          "output_type": "stream",
          "name": "stdout",
          "text": [
            "Cost of vehicles distributing from warehouse 1:  431\n",
            "Cost of vehicles distributing from warehouse 2:  529\n",
            "Total Cost: 960\n",
            "Route of Vehicles leaving warehouse 1: [17, 14, 2, 6, 23, 9, 4, 18, 12, 16, 20]\n",
            "Type of Vehicles leaving warehouse 1: [1, 1, 1, 1, 0, 0] 0 for lorry, 1 for van\n",
            "Route of Vehicles leaving warehouse 2: [13, 5, 15, 1, 8, 19, 11, 10, 7, 22, 3, 21]\n",
            "Type of Vehicles leaving warehouse 2: [1, 1, 1, 0, 0, 0] 0 for lorry, 1 for van\n"
          ]
        }
      ]
    }
  ]
}