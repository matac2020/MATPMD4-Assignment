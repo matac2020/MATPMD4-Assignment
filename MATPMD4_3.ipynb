{
  "nbformat": 4,
  "nbformat_minor": 0,
  "metadata": {
    "colab": {
      "name": "MATPMD4_3.ipynb",
      "provenance": [],
      "collapsed_sections": []
    },
    "kernelspec": {
      "name": "python3",
      "display_name": "Python 3"
    },
    "language_info": {
      "name": "python"
    }
  },
  "cells": [
    {
      "cell_type": "code",
      "source": [
        "import numpy as np\n",
        "import pandas as pd"
      ],
      "metadata": {
        "id": "9ofqPi5Qa8h_"
      },
      "execution_count": null,
      "outputs": []
    },
    {
      "cell_type": "code",
      "source": [
        "!python -m pip install -U \"scipy==1.4.*\" \"pulp==2.1\""
      ],
      "metadata": {
        "id": "hWnXSi76ejbR"
      },
      "execution_count": null,
      "outputs": []
    },
    {
      "cell_type": "code",
      "source": [
        "!pulptest"
      ],
      "metadata": {
        "id": "QBfz32Ik1HYK"
      },
      "execution_count": null,
      "outputs": []
    },
    {
      "cell_type": "code",
      "source": [
        "!pip install glpk"
      ],
      "metadata": {
        "id": "qSqg6Ml21OGJ"
      },
      "execution_count": null,
      "outputs": []
    },
    {
      "cell_type": "code",
      "source": [
        "from scipy.optimize import linprog"
      ],
      "metadata": {
        "id": "Etpefje_1ToZ"
      },
      "execution_count": null,
      "outputs": []
    },
    {
      "cell_type": "code",
      "source": [
        "minimize_profits = [-5, -12, -7, -3, -6] #the negative value of profits per product. we use negative values since spiCy deals with only minimization instead o maximization\n",
        "\n",
        "input_usage = [[1, 1, 1, 1, 1],[1, 5, 5, 3, 6], [1, 2, 1, 0, 3], [0, 2, 0, 0,0],[0, 3, 0, 0,3],[1, 1, 0, 0,3] ] #amount of input required to produce products\n",
        "\n",
        "input_limit = [ 120,500, 100, 40, 90, 120] #constraints\n",
        "\n",
        "final = linprog(c=minimize_profits, A_ub=input_usage, b_ub=input_limit, method=\"revised simplex\") #model which will reveal how we should distribute our resources to maximize profit ."
      ],
      "metadata": {
        "id": "wVyxAtnVHQkV"
      },
      "execution_count": null,
      "outputs": []
    },
    {
      "cell_type": "code",
      "source": [
        "final.success # Returns a Boolean that shows whether the optimal solution has been found or not."
      ],
      "metadata": {
        "colab": {
          "base_uri": "https://localhost:8080/"
        },
        "id": "S6WO24XRGHyE",
        "outputId": "223a2797-f071-4f84-e25d-10ce2b0be85e"
      },
      "execution_count": null,
      "outputs": [
        {
          "output_type": "execute_result",
          "data": {
            "text/plain": [
              "True"
            ]
          },
          "metadata": {},
          "execution_count": 29
        }
      ]
    },
    {
      "cell_type": "code",
      "source": [
        "final.fun # is the objective function value at the optimum (if found)."
      ],
      "metadata": {
        "colab": {
          "base_uri": "https://localhost:8080/"
        },
        "id": "ndYMSZL5E_zU",
        "outputId": "b134c951-9a4b-4adb-f254-c2eff60969d3"
      },
      "execution_count": null,
      "outputs": [
        {
          "output_type": "execute_result",
          "data": {
            "text/plain": [
              "-770.0"
            ]
          },
          "metadata": {},
          "execution_count": 30
        }
      ]
    },
    {
      "cell_type": "code",
      "source": [
        "final.x # is a NumPy array holding the optimal values of the decision variables."
      ],
      "metadata": {
        "colab": {
          "base_uri": "https://localhost:8080/"
        },
        "id": "IIdXMn4WE_1i",
        "outputId": "9879036f-78bc-448c-9e05-705cebd52ef6"
      },
      "execution_count": null,
      "outputs": [
        {
          "output_type": "execute_result",
          "data": {
            "text/plain": [
              "array([ 5., 20., 55., 40.,  0.])"
            ]
          },
          "metadata": {},
          "execution_count": 20
        }
      ]
    }
  ]
}