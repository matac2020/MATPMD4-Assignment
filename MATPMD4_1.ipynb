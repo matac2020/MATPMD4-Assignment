{
  "nbformat": 4,
  "nbformat_minor": 0,
  "metadata": {
    "colab": {
      "name": "MATPMD4_1.ipynb",
      "provenance": [],
      "collapsed_sections": []
    },
    "kernelspec": {
      "name": "python3",
      "display_name": "Python 3"
    },
    "language_info": {
      "name": "python"
    }
  },
  "cells": [
    {
      "cell_type": "code",
      "source": [
        "import random \n",
        "import numpy as np\n",
        "import math"
      ],
      "metadata": {
        "id": "3vZe4UIHHDKs"
      },
      "execution_count": null,
      "outputs": []
    },
    {
      "cell_type": "code",
      "source": [
        "#1-CLIMB HILL METHOD"
      ],
      "metadata": {
        "id": "XMArSJSQPfYq"
      },
      "execution_count": null,
      "outputs": []
    },
    {
      "cell_type": "code",
      "source": [
        "number_hill_climbs = 1000\n",
        "\n",
        "xb = random.uniform(-1, 1)\n",
        "yb = random.uniform(-1, 1)\n",
        "zb = random.uniform(-1, 1)\n",
        "fbest = math.exp(math.sin(40*zb)) + math.exp(math.sin(50*xb)) + math.sin(60*math.exp(yb)) + math.sin(70*math.sin(xb)) + math.sin(70*math.cos(zb)) + math.sin(math.sin(80*yb)) - math.sin(10*(xb+yb)) + (xb**2+yb**2+zb**2)/4\n",
        "\n",
        "for i in range(1,number_hill_climbs):\n",
        "    xn = xb + random.gauss(0, 0.000001)\n",
        "    yn = yb + random.gauss(0, 0.000001)\n",
        "    zn = zb + random.gauss(0, 0.000001)\n",
        "\n",
        "    if xn < -1:\n",
        "        xn = -1\n",
        "    if xn > 1:\n",
        "          xn = 1\n",
        "    if yn < -1:\n",
        "          yn = -1\n",
        "    if yn > 1:\n",
        "          yn = 1\n",
        "    if zn < -1:\n",
        "          zn = -1\n",
        "    if zn > 1:\n",
        "          zn = 1\n",
        "\n",
        "    fnew = math.exp(math.sin(40*zn)) + math.exp(math.sin(50*xn)) + math.sin(60*math.exp(yn)) + math.sin(70*math.sin(xn)) + math.sin(70*math.cos(zn)) + math.sin(math.sin(80*yn)) - math.sin(10*(xn+yn)) + (xn**2+yn**2+zn**2)/4\n",
        "\n",
        "    if fnew > fbest:\n",
        "           xb = xn\n",
        "           yb = yn\n",
        "           zb = zn\n",
        "           fbest = fnew\n",
        "\n",
        "print ('xbest' , xb, 'ybest' , yb, 'zbest', zb, 'fbest', fbest)"
      ],
      "metadata": {
        "colab": {
          "base_uri": "https://localhost:8080/"
        },
        "id": "8tDU7AVohntP",
        "outputId": "5c5edab4-2daa-49c6-a89b-dd1502c5c5ad"
      },
      "execution_count": null,
      "outputs": [
        {
          "output_type": "stream",
          "name": "stdout",
          "text": [
            "xbest 0.010714106430538073 ybest 0.08027414597623511 zbest -0.9445969204810584 fbest 3.4747625000678806\n"
          ]
        }
      ]
    },
    {
      "cell_type": "code",
      "source": [
        "number_hill_climbs = 1000\n",
        "\n",
        "xb = 0.010714106430538073\n",
        "yb = 0.08027414597623511\n",
        "zb = -0.9445969204810584\n",
        "fbest = math.exp(math.sin(40*zb)) + math.exp(math.sin(50*xb)) + math.sin(60*math.exp(yb)) + math.sin(70*math.sin(xb)) + math.sin(70*math.cos(zb)) + math.sin(math.sin(80*yb)) - math.sin(10*(xb+yb)) + (xb**2+yb**2+zb**2)/4\n",
        "\n",
        "for i in range(1,number_hill_climbs):\n",
        "    xn = xb + random.gauss(0, 0.1)\n",
        "    yn = yb + random.gauss(0, 0.1)\n",
        "    zn = zb + random.gauss(0, 0.1)\n",
        "\n",
        "    if xn < -1:\n",
        "        xn = -1\n",
        "    if xn > 1:\n",
        "          xn = 1\n",
        "    if yn < -1:\n",
        "          yn = -1\n",
        "    if yn > 1:\n",
        "          yn = 1\n",
        "    if zn < -1:\n",
        "          zn = -1\n",
        "    if zn > 1:\n",
        "          zn = 1\n",
        "\n",
        "    fnew = math.exp(math.sin(40*zn)) + math.exp(math.sin(50*xn)) + math.sin(60*math.exp(yn)) + math.sin(70*math.sin(xn)) + math.sin(70*math.cos(zn)) + math.sin(math.sin(80*yn)) - math.sin(10*(xn+yn)) + (xn**2+yn**2+zn**2)/4\n",
        "\n",
        "    if fnew > fbest:\n",
        "           xb = xn\n",
        "           yb = yn\n",
        "           zb = zn\n",
        "           fbest = fnew\n",
        "\n",
        "print ('xbest' , xb, 'ybest' , yb, 'zbest', zb, 'fbest', fbest)"
      ],
      "metadata": {
        "colab": {
          "base_uri": "https://localhost:8080/"
        },
        "id": "YXlzmeM5hnvu",
        "outputId": "b6f56778-0a4f-41ce-fc51-e877a219ce37"
      },
      "execution_count": null,
      "outputs": [
        {
          "output_type": "stream",
          "name": "stdout",
          "text": [
            "xbest 0.028788250673341946 ybest -0.14164097776836548 zbest -0.8730093541296097 fbest 8.743426127503351\n"
          ]
        }
      ]
    },
    {
      "cell_type": "code",
      "source": [
        "number_hill_climbs = 1000\n",
        "\n",
        "xb = 0.028788250673341946\n",
        "yb = -0.14164097776836548\n",
        "zb = -0.8730093541296097\n",
        "fbest = math.exp(math.sin(40*zb)) + math.exp(math.sin(50*xb)) + math.sin(60*math.exp(yb)) + math.sin(70*math.sin(xb)) + math.sin(70*math.cos(zb)) + math.sin(math.sin(80*yb)) - math.sin(10*(xb+yb)) + (xb**2+yb**2+zb**2)/4\n",
        "\n",
        "for i in range(1,number_hill_climbs):\n",
        "    xn = xb + random.gauss(0, 0.1)\n",
        "    yn = yb + random.gauss(0, 0.1)\n",
        "    zn = zb + random.gauss(0, 0.1)\n",
        "\n",
        "    if xn < -1:\n",
        "        xn = -1\n",
        "    if xn > 1:\n",
        "          xn = 1\n",
        "    if yn < -1:\n",
        "          yn = -1\n",
        "    if yn > 1:\n",
        "          yn = 1\n",
        "    if zn < -1:\n",
        "          zn = -1\n",
        "    if zn > 1:\n",
        "          zn = 1\n",
        "\n",
        "    fnew = math.exp(math.sin(40*zn)) + math.exp(math.sin(50*xn)) + math.sin(60*math.exp(yn)) + math.sin(70*math.sin(xn)) + math.sin(70*math.cos(zn)) + math.sin(math.sin(80*yn)) - math.sin(10*(xn+yn)) + (xn**2+yn**2+zn**2)/4\n",
        "\n",
        "    if fnew > fbest:\n",
        "           xb = xn\n",
        "           yb = yn\n",
        "           zb = zn\n",
        "           fbest = fnew\n",
        "\n",
        "print ('xbest' , xb, 'ybest' , yb, 'zbest', zb, 'fbest', fbest)"
      ],
      "metadata": {
        "colab": {
          "base_uri": "https://localhost:8080/"
        },
        "id": "qhyNyQklhnyW",
        "outputId": "c488406b-3e16-448b-b6ba-7b620f67ccf8"
      },
      "execution_count": null,
      "outputs": [
        {
          "output_type": "stream",
          "name": "stdout",
          "text": [
            "xbest 0.028568802118593004 ybest -0.28760823532282476 zbest -0.7426970408636765 fbest 9.543708078285063\n"
          ]
        }
      ]
    },
    {
      "cell_type": "code",
      "source": [
        "number_hill_climbs = 1000\n",
        "\n",
        "xb = 0.028568802118593004\n",
        "yb = -0.28760823532282476\n",
        "zb = -0.7426970408636765\n",
        "fbest = math.exp(math.sin(40*zb)) + math.exp(math.sin(50*xb)) + math.sin(60*math.exp(yb)) + math.sin(70*math.sin(xb)) + math.sin(70*math.cos(zb)) + math.sin(math.sin(80*yb)) - math.sin(10*(xb+yb)) + (xb**2+yb**2+zb**2)/4\n",
        "\n",
        "for i in range(1,number_hill_climbs):\n",
        "    xn = xb + random.gauss(0, 0.1)\n",
        "    yn = yb + random.gauss(0, 0.1)\n",
        "    zn = zb + random.gauss(0, 0.1)\n",
        "\n",
        "    if xn < -1:\n",
        "        xn = -1\n",
        "    if xn > 1:\n",
        "          xn = 1\n",
        "    if yn < -1:\n",
        "          yn = -1\n",
        "    if yn > 1:\n",
        "          yn = 1\n",
        "    if zn < -1:\n",
        "          zn = -1\n",
        "    if zn > 1:\n",
        "          zn = 1\n",
        "\n",
        "    fnew = math.exp(math.sin(40*zn)) + math.exp(math.sin(50*xn)) + math.sin(60*math.exp(yn)) + math.sin(70*math.sin(xn)) + math.sin(70*math.cos(zn)) + math.sin(math.sin(80*yn)) - math.sin(10*(xn+yn)) + (xn**2+yn**2+zn**2)/4\n",
        "\n",
        "    if fnew > fbest:\n",
        "           xb = xn\n",
        "           yb = yn\n",
        "           zb = zn\n",
        "           fbest = fnew\n",
        "\n",
        "print ('xbest' , xb, 'ybest' , yb, 'zbest', zb, 'fbest', fbest)"
      ],
      "metadata": {
        "colab": {
          "base_uri": "https://localhost:8080/"
        },
        "id": "jBkUbonRhn3B",
        "outputId": "670534c9-4f45-4848-aef6-6e09eac18110"
      },
      "execution_count": null,
      "outputs": [
        {
          "output_type": "stream",
          "name": "stdout",
          "text": [
            "xbest 0.03265173452015312 ybest -0.14141896438526455 zbest -0.7436932391416561 fbest 9.934848437376472\n"
          ]
        }
      ]
    },
    {
      "cell_type": "code",
      "source": [
        "number_hill_climbs = 1000\n",
        "\n",
        "xb = 0.03265173452015312\n",
        "yb = -0.14141896438526455\n",
        "zb = -0.7436932391416561\n",
        "fbest = math.exp(math.sin(40*zb)) + math.exp(math.sin(50*xb)) + math.sin(60*math.exp(yb)) + math.sin(70*math.sin(xb)) + math.sin(70*math.cos(zb)) + math.sin(math.sin(80*yb)) - math.sin(10*(xb+yb)) + (xb**2+yb**2+zb**2)/4\n",
        "\n",
        "for i in range(1,number_hill_climbs):\n",
        "    xn = xb + random.gauss(0, 0.01)\n",
        "    yn = yb + random.gauss(0, 0.01)\n",
        "    zn = zb + random.gauss(0, 0.01)\n",
        "\n",
        "    if xn < -1:\n",
        "        xn = -1\n",
        "    if xn > 1:\n",
        "          xn = 1\n",
        "    if yn < -1:\n",
        "          yn = -1\n",
        "    if yn > 1:\n",
        "          yn = 1\n",
        "    if zn < -1:\n",
        "          zn = -1\n",
        "    if zn > 1:\n",
        "          zn = 1\n",
        "\n",
        "    fnew = math.exp(math.sin(40*zn)) + math.exp(math.sin(50*xn)) + math.sin(60*math.exp(yn)) + math.sin(70*math.sin(xn)) + math.sin(70*math.cos(zn)) + math.sin(math.sin(80*yn)) - math.sin(10*(xn+yn)) + (xn**2+yn**2+zn**2)/4\n",
        "\n",
        "    if fnew > fbest:\n",
        "           xb = xn\n",
        "           yb = yn\n",
        "           zb = zn\n",
        "           fbest = fnew\n",
        "\n",
        "print ('xbest' , xb, 'ybest' , yb, 'zbest', zb, 'fbest', fbest)"
      ],
      "metadata": {
        "colab": {
          "base_uri": "https://localhost:8080/"
        },
        "id": "zMTM8fSzLDB0",
        "outputId": "1bbea8a1-e544-4a00-ddf8-6c2cdf2931bf"
      },
      "execution_count": null,
      "outputs": [
        {
          "output_type": "stream",
          "name": "stdout",
          "text": [
            "xbest 0.0289591283214122 ybest -0.14288197893038448 zbest -0.7426475273922463 fbest 10.07570955764973\n"
          ]
        }
      ]
    },
    {
      "cell_type": "code",
      "source": [
        "#2-RANDOM SEARCH METHOD"
      ],
      "metadata": {
        "id": "PPEtW8E7ZQJH"
      },
      "execution_count": null,
      "outputs": []
    },
    {
      "cell_type": "code",
      "source": [
        "steps = 1000\n",
        "\n",
        "\n",
        "xb = random.uniform(-1, 1)\n",
        "yb = random.uniform(-1, 1)\n",
        "zb = np.random.uniform(-1, 1)\n",
        "fbest = math.exp(math.sin(40*zb)) + math.exp(math.sin(50*xb)) + math.sin(60*math.exp(yb)) + math.sin(70*math.sin(xb)) + math.sin(70*math.cos(zb)) + math.sin(math.sin(80*yb)) - math.sin(10*(xb+yb)) + (xb**2+yb**2+zb**2)/4\n",
        "\n",
        "for i in range(1,steps):\n",
        "      xn = random.uniform(-1, 1)\n",
        "      yn = random.uniform(-1, 1)\n",
        "      zn = random.uniform(-1, 1)\n",
        "      fnew = math.exp(math.sin(40*zn)) + math.exp(math.sin(50*xn)) + math.sin(60*math.exp(yn)) + math.sin(70*math.sin(xn)) + math.sin(70*math.cos(zn)) + math.sin(math.sin(80*yn)) - math.sin(10*(xn+yn)) + (xn**2+yn**2+zn**2)/4\n",
        "\n",
        "      if fnew > fbest:\n",
        "          xb = xn\n",
        "          yb = yn\n",
        "          zb = zn\n",
        "          fbest = fnew\n",
        "\n",
        "print ('xbest' , xb, 'ybest', yb, 'zbest', zb, 'fbest', fbest,)"
      ],
      "metadata": {
        "colab": {
          "base_uri": "https://localhost:8080/"
        },
        "id": "3nH2MdGEecqN",
        "outputId": "71c3ebc9-2557-433f-c9c8-748b314b099c"
      },
      "execution_count": null,
      "outputs": [
        {
          "output_type": "stream",
          "name": "stdout",
          "text": [
            "xbest 0.017608078207108635 ybest -0.8249926903368094 zbest -0.5812273441709332 fbest 8.795226988772466\n"
          ]
        }
      ]
    },
    {
      "cell_type": "code",
      "source": [
        "steps = 1000\n",
        "\n",
        "\n",
        "xb = random.uniform(-1, 1)\n",
        "yb = random.uniform(-1, 1)\n",
        "zb = np.random.uniform(-1, 1)\n",
        "fbest = math.exp(math.sin(40*zb)) + math.exp(math.sin(50*xb)) + math.sin(60*math.exp(yb)) + math.sin(70*math.sin(xb)) + math.sin(70*math.cos(zb)) + math.sin(math.sin(80*yb)) - math.sin(10*(xb+yb)) + (xb**2+yb**2+zb**2)/4\n",
        "\n",
        "for i in range(1,steps):\n",
        "      xn = random.uniform(-1, 1)\n",
        "      yn = random.uniform(-1, 1)\n",
        "      zn = random.uniform(-1, 1)\n",
        "      fnew = math.exp(math.sin(40*zn)) + math.exp(math.sin(50*xn)) + math.sin(60*math.exp(yn)) + math.sin(70*math.sin(xn)) + math.sin(70*math.cos(zn)) + math.sin(math.sin(80*yn)) - math.sin(10*(xn+yn)) + (xn**2+yn**2+zn**2)/4\n",
        "\n",
        "      if fnew > fbest:\n",
        "          xb = xn\n",
        "          yb = yn\n",
        "          zb = zn\n",
        "          fbest = fnew\n",
        "\n",
        "print ('xbest' , xb, 'ybest', yb, 'zbest', zb, 'fbest', fbest,)"
      ],
      "metadata": {
        "colab": {
          "base_uri": "https://localhost:8080/"
        },
        "id": "Z4JUpxVnecvT",
        "outputId": "0b572232-7cab-4f0f-b791-4c663126d453"
      },
      "execution_count": null,
      "outputs": [
        {
          "output_type": "stream",
          "name": "stdout",
          "text": [
            "xbest -0.3401676752742371 ybest 0.24864753395183614 zbest 0.022788099684882157 fbest 9.163459467304305\n"
          ]
        }
      ]
    },
    {
      "cell_type": "code",
      "source": [
        "steps = 1000\n",
        "\n",
        "\n",
        "xb = -0.3401676752742371\n",
        "yb = 0.24864753395183614\n",
        "zb = 0.022788099684882157\n",
        "fbest = math.exp(math.sin(40*zb)) + math.exp(math.sin(50*xb)) + math.sin(60*math.exp(yb)) + math.sin(70*math.sin(xb)) + math.sin(70*math.cos(zb)) + math.sin(math.sin(80*yb)) - math.sin(10*(xb+yb)) + (xb**2+yb**2+zb**2)/4\n",
        "\n",
        "for i in range(1,steps):\n",
        "      xn = random.uniform(-1, 1)\n",
        "      yn = random.uniform(-1, 1)\n",
        "      zn = random.uniform(-1, 1)\n",
        "      fnew = math.exp(math.sin(40*zn)) + math.exp(math.sin(50*xn)) + math.sin(60*math.exp(yn)) + math.sin(70*math.sin(xn)) + math.sin(70*math.cos(zn)) + math.sin(math.sin(80*yn)) - math.sin(10*(xn+yn)) + (xn**2+yn**2+zn**2)/4\n",
        "\n",
        "      if fnew > fbest:\n",
        "          xb = xn\n",
        "          yb = yn\n",
        "          zb = zn\n",
        "          fbest = fnew\n",
        "\n",
        "print ('xbest' , xb, 'ybest', yb, 'zbest', zb, 'fbest', fbest,)"
      ],
      "metadata": {
        "colab": {
          "base_uri": "https://localhost:8080/"
        },
        "id": "icUUJTfWe04L",
        "outputId": "e4aff248-a8ef-412f-9d94-3d669924f487"
      },
      "execution_count": null,
      "outputs": [
        {
          "output_type": "stream",
          "name": "stdout",
          "text": [
            "xbest 0.28575241494676096 ybest 0.8022710095084207 zbest 0.9815500828847736 fbest 10.304203952976067\n"
          ]
        }
      ]
    }
  ]
}